{
  "nbformat": 4,
  "nbformat_minor": 0,
  "metadata": {
    "colab": {
      "provenance": [],
      "authorship_tag": "ABX9TyMn4OWsz25FwERZ8FPATXqH",
      "include_colab_link": true
    },
    "kernelspec": {
      "name": "python3",
      "display_name": "Python 3"
    },
    "language_info": {
      "name": "python"
    }
  },
  "cells": [
    {
      "cell_type": "markdown",
      "metadata": {
        "id": "view-in-github",
        "colab_type": "text"
      },
      "source": [
        "<a href=\"https://colab.research.google.com/github/edgaracabral/pod-academy-curso-da-ds/blob/main/Aula_003_DataMaster.ipynb\" target=\"_parent\"><img src=\"https://colab.research.google.com/assets/colab-badge.svg\" alt=\"Open In Colab\"/></a>"
      ]
    },
    {
      "cell_type": "code",
      "execution_count": null,
      "metadata": {
        "id": "polM6POgNrd2"
      },
      "outputs": [],
      "source": []
    },
    {
      "cell_type": "markdown",
      "source": [
        "# Título do Notebook\n",
        "## Subtítulo\n",
        "### Descrição\n",
        "**Colocar algo em negrito**\n",
        "- Tópicos\n",
        " - Tópicos\n",
        "- Tópicos"
      ],
      "metadata": {
        "id": "N6DCWyoWNvvP"
      }
    },
    {
      "cell_type": "markdown",
      "source": [
        "Mapear bibliotecas necessárias para o projeto"
      ],
      "metadata": {
        "id": "lOeh1TNsOEFX"
      }
    },
    {
      "cell_type": "code",
      "source": [
        "import pandas as pd"
      ],
      "metadata": {
        "id": "cd5LQnUXOI0c"
      },
      "execution_count": 1,
      "outputs": []
    }
  ]
}